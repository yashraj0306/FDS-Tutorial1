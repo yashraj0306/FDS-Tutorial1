{
 "cells": [
  {
   "cell_type": "code",
   "execution_count": 41,
   "id": "fc8638b9-9526-44d1-b193-ef283d67c511",
   "metadata": {},
   "outputs": [
    {
     "name": "stdout",
     "output_type": "stream",
     "text": [
      "[1 2 3]\n"
     ]
    }
   ],
   "source": [
    "\n",
    "import numpy as np\n",
    "arr=np.array([1,2,3])\n",
    "print(arr)\n"
   ]
  },
  {
   "cell_type": "code",
   "execution_count": null,
   "id": "50c55464-be5c-4a77-90ac-a54d9d1874cd",
   "metadata": {},
   "outputs": [],
   "source": []
  },
  {
   "cell_type": "code",
   "execution_count": 13,
   "id": "ea49ed7c-4ad5-4490-9e10-9bf90cd1cdd2",
   "metadata": {},
   "outputs": [
    {
     "name": "stdout",
     "output_type": "stream",
     "text": [
      "[[ 0  1  2  3  4]\n",
      " [ 5  6  7  8  9]\n",
      " [10 11 12 13 14]\n",
      " [15 16 17 18 19]\n",
      " [20 21 22 23 24]\n",
      " [25 26 27 28 29]]\n"
     ]
    }
   ],
   "source": [
    "//create 2d array with 6 rows and 5 coloumb\n",
    "import numpy as np\n",
    "arr=np.arange(30).reshape(6,5)\n",
    "print(arr)"
   ]
  },
  {
   "cell_type": "code",
   "execution_count": 27,
   "id": "6ad9fc4a-3658-4a8c-ae4d-65d6bd528fa3",
   "metadata": {},
   "outputs": [
    {
     "data": {
      "text/plain": [
       "array([[0., 0., 0., 0.],\n",
       "       [0., 0., 0., 0.]])"
      ]
     },
     "execution_count": 27,
     "metadata": {},
     "output_type": "execute_result"
    }
   ],
   "source": [
    "import numpy as np\n",
    "np.zeros((2,4))"
   ]
  },
  {
   "cell_type": "code",
   "execution_count": 29,
   "id": "4acb4cf8-6125-4086-bac4-1111c2952550",
   "metadata": {},
   "outputs": [
    {
     "data": {
      "text/plain": [
       "array([[1., 1., 1., 1.],\n",
       "       [1., 1., 1., 1.]])"
      ]
     },
     "execution_count": 29,
     "metadata": {},
     "output_type": "execute_result"
    }
   ],
   "source": [
    "import numpy as np\n",
    "np.ones((2,4))"
   ]
  },
  {
   "cell_type": "code",
   "execution_count": 39,
   "id": "37a5a2d5-8826-40cf-b83e-363a8a8ce7f9",
   "metadata": {},
   "outputs": [
    {
     "data": {
      "text/plain": [
       "array([[7, 7, 7, 7],\n",
       "       [7, 7, 7, 7]])"
      ]
     },
     "execution_count": 39,
     "metadata": {},
     "output_type": "execute_result"
    }
   ],
   "source": [
    "\n",
    "import numpy as np\n",
    "np.full((2,4),7)"
   ]
  },
  {
   "cell_type": "code",
   "execution_count": 47,
   "id": "b23155a6-5d44-4763-a94c-865af6cad53d",
   "metadata": {},
   "outputs": [
    {
     "ename": "SyntaxError",
     "evalue": "invalid non-printable character U+00A0 (1953769328.py, line 15)",
     "output_type": "error",
     "traceback": [
      "\u001b[1;36m  Cell \u001b[1;32mIn[47], line 15\u001b[1;36m\u001b[0m\n\u001b[1;33m    print(arr[-4:-1, -4:-1])\u001b[0m\n\u001b[1;37m                    ^\u001b[0m\n\u001b[1;31mSyntaxError\u001b[0m\u001b[1;31m:\u001b[0m invalid non-printable character U+00A0\n"
     ]
    }
   ],
   "source": [
    "import numpy as np\n",
    "\n",
    "arr = np.arange(49).reshape(7,7)\n",
    "#Prt 1\n",
    "print(arr[:,:])\n",
    "#Prt 2\n",
    "print(arr[2:5, 0:3])\n",
    "#Prt 3\n",
    "print(arr[0:2, 0:5])\n",
    "#Prt 4\n",
    "print(arr[2:4, 2:4])\n",
    "#Prt 5\n",
    "print(arr[-3:-1, -3:-1])\n",
    "#Prt 6\n",
    "print(arr[-4:-1, -4:-1])"
   ]
  },
  {
   "cell_type": "code",
   "execution_count": 49,
   "id": "071be9c3-9603-41da-9c72-781c14797d2d",
   "metadata": {},
   "outputs": [
    {
     "name": "stdout",
     "output_type": "stream",
     "text": [
      "1\n",
      "2\n",
      "3\n"
     ]
    }
   ],
   "source": [
    "import numpy as np\n",
    "\n",
    "arr = np.array([1, 2, 3, 4])\n",
    "arr1 = np.array([[1, 2, 3], [4, 5, 6]])\n",
    "arr2 = np.array([[[1, 2, 3], [4, 5, 6]], [[7, 8, 9], [10, 11, 12]]])\n",
    "print(arr.ndim)\n",
    "print(arr1.ndim)\n",
    "print(arr2.ndim)"
   ]
  },
  {
   "cell_type": "code",
   "execution_count": 53,
   "id": "004a4aa6-beb9-4ec5-81c4-3eacfc3ca0d0",
   "metadata": {},
   "outputs": [
    {
     "name": "stdout",
     "output_type": "stream",
     "text": [
      "[[[[[[[[2 2 2 2]]]]]]]]\n"
     ]
    }
   ],
   "source": [
    "#Question 7\n",
    "#Create 8D Array with value [2, 2, 2, 2]\n",
    "import numpy as np\n",
    "\n",
    "arr = np.array([2, 2, 2, 2], ndmin = 8)\n",
    "print(arr)"
   ]
  },
  {
   "cell_type": "code",
   "execution_count": null,
   "id": "40d3546d-b755-4671-b2fc-9e73dffa70b8",
   "metadata": {},
   "outputs": [],
   "source": []
  }
 ],
 "metadata": {
  "kernelspec": {
   "display_name": "Python 3 (ipykernel)",
   "language": "python",
   "name": "python3"
  },
  "language_info": {
   "codemirror_mode": {
    "name": "ipython",
    "version": 3
   },
   "file_extension": ".py",
   "mimetype": "text/x-python",
   "name": "python",
   "nbconvert_exporter": "python",
   "pygments_lexer": "ipython3",
   "version": "3.12.4"
  }
 },
 "nbformat": 4,
 "nbformat_minor": 5
}
