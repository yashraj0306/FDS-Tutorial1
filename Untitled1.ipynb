{
 "cells": [
  {
   "cell_type": "code",
   "execution_count": 1,
   "id": "36e4dd41-0b2f-404b-a730-9aa5eeaab6b0",
   "metadata": {},
   "outputs": [
    {
     "name": "stdout",
     "output_type": "stream",
     "text": [
      "[1 2 3]\n"
     ]
    }
   ],
   "source": [
    "import numpy as np\n",
    "arr=np.array([1,2,3])\n",
    "print(arr)"
   ]
  },
  {
   "cell_type": "code",
   "execution_count": null,
   "id": "14283f2d-d079-4549-81f3-ba289e5f9871",
   "metadata": {
    "scrolled": true
   },
   "outputs": [],
   "source": []
  },
  {
   "cell_type": "code",
   "execution_count": 7,
   "id": "d76e4602-92a7-4718-9c06-f7a756a7f8b1",
   "metadata": {},
   "outputs": [
    {
     "name": "stdout",
     "output_type": "stream",
     "text": [
      "x1; [1 3 0 7]\n",
      "x2; [2 3 5 6]\n"
     ]
    }
   ],
   "source": [
    "x1=np.array([1,3,0,7])\n",
    "x2=np.array([2,3,5,6])\n",
    "print(\"x1;\",x1)\n",
    "print(\"x2;\",x2)"
   ]
  },
  {
   "cell_type": "code",
   "execution_count": 13,
   "id": "75716b00-a960-47ed-90dc-b15fb205fa9f",
   "metadata": {},
   "outputs": [
    {
     "name": "stdout",
     "output_type": "stream",
     "text": [
      "(2, 4)\n",
      "(2, 2, 2)\n"
     ]
    }
   ],
   "source": [
    "import numpy as npy\n",
    " \n",
    "# creating a 2-d array\n",
    "arr1 = npy.array([[1, 3, 5, 7], [2, 4, 6, 8]])\n",
    " \n",
    "# creating a 3-d array\n",
    "arr2 = npy.array([[[1, 2], [3, 4]], [[5, 6], [7, 8]]])\n",
    " \n",
    "print(arr1.shape)\n",
    "print(arr2.shape)"
   ]
  },
  {
   "cell_type": "code",
   "execution_count": 15,
   "id": "fb473f76-6f38-4246-9f16-6f99aa529d42",
   "metadata": {},
   "outputs": [
    {
     "name": "stdout",
     "output_type": "stream",
     "text": [
      "1\n"
     ]
    }
   ],
   "source": [
    "import numpy as geek \n",
    "  \n",
    "arr = geek.array([1, 2, 3, 4]) \n",
    "  \n",
    "gfg = arr.ndim \n",
    "  \n",
    "print (gfg) "
   ]
  },
  {
   "cell_type": "code",
   "execution_count": 17,
   "id": "70c5be2f-ac58-45cb-8e50-da17408dc403",
   "metadata": {},
   "outputs": [
    {
     "name": "stdout",
     "output_type": "stream",
     "text": [
      "[[1 4]\n",
      " [2 5]\n",
      " [3 6]]\n"
     ]
    }
   ],
   "source": [
    "import numpy as np \n",
    "\n",
    "arr = np.array([[1, 2, 3], [4, 5, 6]])\t \n",
    "# applying ndarray.T object \n",
    "transposed_array = arr.T \n",
    "\n",
    "print(transposed_array)\n"
   ]
  },
  {
   "cell_type": "code",
   "execution_count": 20,
   "id": "29f1e06a-1aab-4a0e-9555-bbedb87123ab",
   "metadata": {},
   "outputs": [
    {
     "name": "stdout",
     "output_type": "stream",
     "text": [
      "[1. 2.]\n",
      "\n",
      "float64\n"
     ]
    }
   ],
   "source": [
    "import numpy as np \n",
    "          \n",
    "# make an array with numpy \n",
    "gfg = np.array([1 + 2j, 2 + 3j]) \n",
    "          \n",
    "# applying ndarray.real() method \n",
    "geeks = np.real(gfg) \n",
    "    \n",
    "print(geeks, end ='\\n\\n') \n",
    "print(np.real(geeks).dtype) "
   ]
  },
  {
   "cell_type": "code",
   "execution_count": null,
   "id": "1d166033-f89f-4317-a04d-883cd2c745f5",
   "metadata": {},
   "outputs": [],
   "source": []
  }
 ],
 "metadata": {
  "kernelspec": {
   "display_name": "Python 3 (ipykernel)",
   "language": "python",
   "name": "python3"
  },
  "language_info": {
   "codemirror_mode": {
    "name": "ipython",
    "version": 3
   },
   "file_extension": ".py",
   "mimetype": "text/x-python",
   "name": "python",
   "nbconvert_exporter": "python",
   "pygments_lexer": "ipython3",
   "version": "3.12.4"
  }
 },
 "nbformat": 4,
 "nbformat_minor": 5
}
